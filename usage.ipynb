{
 "cells": [
  {
   "cell_type": "code",
   "execution_count": 11,
   "id": "a32868f1-509b-40d8-9432-4a701c8b168d",
   "metadata": {},
   "outputs": [
    {
     "name": "stderr",
     "output_type": "stream",
     "text": [
      "Warning : `load_model` does not return WordVectorModel or SupervisedModel any more, but a `FastText` object which is very similar.\n"
     ]
    }
   ],
   "source": [
    "import fasttext\n",
    "import joblib\n",
    "\n",
    "model = fasttext.load_model('char2vec.bin')\n",
    "words = joblib.load('words.joblib')\n",
    "nbrs = joblib.load('nbrs.joblib')"
   ]
  },
  {
   "cell_type": "code",
   "execution_count": 12,
   "id": "20eadf6e-c671-40f8-a585-4d0c1a43cf50",
   "metadata": {},
   "outputs": [],
   "source": [
    "from pythainlp.corpus import thai_orst_words\n",
    "import numpy as np\n",
    "list_word=list(thai_orst_words())\n",
    "list_word_use=[i for i in list_word if \" \" not in i]\n",
    "# words=list_word_use"
   ]
  },
  {
   "cell_type": "code",
   "execution_count": 13,
   "id": "b597220b-681d-4516-ac38-117bea866d1b",
   "metadata": {},
   "outputs": [],
   "source": [
    "words_input = ['การบด้าน', 'สวัดี', 'vออกเลอร์', 'ปละเทศไทยย', 'อรอย']"
   ]
  },
  {
   "cell_type": "code",
   "execution_count": 14,
   "id": "bf7e5c90-34f1-4011-aae4-9bbbe7761079",
   "metadata": {},
   "outputs": [
    {
     "name": "stdout",
     "output_type": "stream",
     "text": [
      "การบด้าน \n",
      "---> ['การบ้าน' 'หน้ากระดาน' 'ข้างกระดาน' 'กร้าน' 'ทำการบ้าน']\n",
      "สวัดี \n",
      "---> ['สวัสดี' 'วสวัดดี' 'วิดัสดี' 'ดบัสวี' 'สรัสวดี']\n",
      "vออกเลอร์ \n",
      "---> ['ออกเบอร์' 'เอทิลแอลกอฮอล์' 'เรือฉลอม' 'ปลูกเรือนคร่อมตอ' 'ออร์แกน']\n",
      "ปละเทศไทยย \n",
      "---> ['ทะเลทราย' 'กะเทย' 'ลายเทศ' 'ทะเทียด' 'กระเทียมโทน']\n",
      "อรอย \n",
      "---> ['รอย' 'อร่อย' 'ร่องรอย' 'ร่อยหรอ' 'เอร็ดอร่อย']\n"
     ]
    }
   ],
   "source": [
    "word_input_vec = [model.get_sentence_vector(' '.join(list(word))) for word in words_input]\n",
    "indices = nbrs.kneighbors(word_input_vec, 5, False)  # n_neighbors is 5\n",
    "suggestion = words[indices]\n",
    "\n",
    "for w, s in zip(words_input, suggestion):\n",
    "    print(f'{w} \\n---> {s}')"
   ]
  },
  {
   "cell_type": "code",
   "execution_count": 15,
   "id": "7518645f-fe2d-4817-a02e-ad5ee5465791",
   "metadata": {},
   "outputs": [],
   "source": [
    "# indices"
   ]
  },
  {
   "cell_type": "code",
   "execution_count": 16,
   "id": "78adec28-6baf-4ffc-9375-943b98b22be1",
   "metadata": {},
   "outputs": [
    {
     "data": {
      "text/plain": [
       "<fasttext.FastText._FastText at 0x7ff70c276380>"
      ]
     },
     "execution_count": 16,
     "metadata": {},
     "output_type": "execute_result"
    }
   ],
   "source": [
    "model"
   ]
  },
  {
   "cell_type": "code",
   "execution_count": 18,
   "id": "e50fa86d-4898-4438-8d00-68739247be8f",
   "metadata": {},
   "outputs": [],
   "source": [
    "# from gensim.models.fasttext import load_facebook_model"
   ]
  },
  {
   "cell_type": "code",
   "execution_count": 23,
   "id": "2b8772f6-e510-4a9f-ab33-d93b09d682f6",
   "metadata": {},
   "outputs": [
    {
     "data": {
      "text/plain": [
       "['</s>',\n",
       " 'า',\n",
       " 'ร',\n",
       " 'น',\n",
       " 'ก',\n",
       " 'อ',\n",
       " 'เ',\n",
       " 'ม',\n",
       " 'ง',\n",
       " 'ั',\n",
       " 'ย',\n",
       " '้',\n",
       " 'ล',\n",
       " 'ว',\n",
       " 'ิ',\n",
       " '่',\n",
       " 'ส',\n",
       " 'ต',\n",
       " 'ะ',\n",
       " 'ห',\n",
       " 'ด',\n",
       " 'ี',\n",
       " 'บ',\n",
       " 'ป',\n",
       " 'ท',\n",
       " 'ุ',\n",
       " 'ค',\n",
       " 'พ',\n",
       " 'จ',\n",
       " 'ข',\n",
       " 'แ',\n",
       " 'ช',\n",
       " 'ู',\n",
       " 'ื',\n",
       " '์',\n",
       " 'โ',\n",
       " 'ำ',\n",
       " 'ไ',\n",
       " 'ศ',\n",
       " 'ธ',\n",
       " 'ณ',\n",
       " 'ถ',\n",
       " 'ผ',\n",
       " 'ภ',\n",
       " '็',\n",
       " 'ษ',\n",
       " 'ญ',\n",
       " 'ใ',\n",
       " 'ึ',\n",
       " 'ซ',\n",
       " 'ฉ',\n",
       " 'ฟ',\n",
       " 'ฝ',\n",
       " '๊',\n",
       " 'ฐ',\n",
       " 'ฤ',\n",
       " '๋',\n",
       " 'ฑ',\n",
       " 'ฏ',\n",
       " 'ฮ',\n",
       " 'ฆ',\n",
       " 'ฎ',\n",
       " 'ฬ',\n",
       " 'ฒ',\n",
       " 'ฌ',\n",
       " '-',\n",
       " '.',\n",
       " 'ๅ']"
      ]
     },
     "execution_count": 23,
     "metadata": {},
     "output_type": "execute_result"
    }
   ],
   "source": [
    "model.labels"
   ]
  },
  {
   "cell_type": "code",
   "execution_count": 20,
   "id": "07ee384d-e732-49ef-91d1-e5db9d913486",
   "metadata": {},
   "outputs": [
    {
     "data": {
      "text/plain": [
       "['__class__',\n",
       " '__contains__',\n",
       " '__delattr__',\n",
       " '__dict__',\n",
       " '__dir__',\n",
       " '__doc__',\n",
       " '__eq__',\n",
       " '__format__',\n",
       " '__ge__',\n",
       " '__getattribute__',\n",
       " '__getitem__',\n",
       " '__gt__',\n",
       " '__hash__',\n",
       " '__init__',\n",
       " '__init_subclass__',\n",
       " '__le__',\n",
       " '__lt__',\n",
       " '__module__',\n",
       " '__ne__',\n",
       " '__new__',\n",
       " '__reduce__',\n",
       " '__reduce_ex__',\n",
       " '__repr__',\n",
       " '__setattr__',\n",
       " '__sizeof__',\n",
       " '__str__',\n",
       " '__subclasshook__',\n",
       " '__weakref__',\n",
       " '_labels',\n",
       " '_words',\n",
       " 'f',\n",
       " 'get_analogies',\n",
       " 'get_dimension',\n",
       " 'get_input_matrix',\n",
       " 'get_input_vector',\n",
       " 'get_label_id',\n",
       " 'get_labels',\n",
       " 'get_line',\n",
       " 'get_meter',\n",
       " 'get_nearest_neighbors',\n",
       " 'get_output_matrix',\n",
       " 'get_sentence_vector',\n",
       " 'get_subword_id',\n",
       " 'get_subwords',\n",
       " 'get_word_id',\n",
       " 'get_word_vector',\n",
       " 'get_words',\n",
       " 'is_quantized',\n",
       " 'labels',\n",
       " 'predict',\n",
       " 'quantize',\n",
       " 'save_model',\n",
       " 'set_args',\n",
       " 'set_matrices',\n",
       " 'test',\n",
       " 'test_label',\n",
       " 'words']"
      ]
     },
     "execution_count": 20,
     "metadata": {},
     "output_type": "execute_result"
    }
   ],
   "source": [
    "dir(model)"
   ]
  },
  {
   "cell_type": "code",
   "execution_count": null,
   "id": "b737c9d1-d422-459a-b3b0-3b28fcc4aef6",
   "metadata": {},
   "outputs": [],
   "source": []
  }
 ],
 "metadata": {
  "kernelspec": {
   "display_name": "Python 3 (ipykernel)",
   "language": "python",
   "name": "python3"
  },
  "language_info": {
   "codemirror_mode": {
    "name": "ipython",
    "version": 3
   },
   "file_extension": ".py",
   "mimetype": "text/x-python",
   "name": "python",
   "nbconvert_exporter": "python",
   "pygments_lexer": "ipython3",
   "version": "3.10.12"
  }
 },
 "nbformat": 4,
 "nbformat_minor": 5
}
