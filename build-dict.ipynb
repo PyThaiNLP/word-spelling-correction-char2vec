{
 "cells": [
  {
   "cell_type": "code",
   "execution_count": 1,
   "id": "553d9e84-7e95-4284-80b6-3a5d8ecd3cd3",
   "metadata": {},
   "outputs": [],
   "source": [
    "from pythainlp.corpus import thai_orst_words"
   ]
  },
  {
   "cell_type": "code",
   "execution_count": 2,
   "id": "bae852dd-8517-4dae-9ac7-2dc40cc35fd6",
   "metadata": {},
   "outputs": [],
   "source": [
    "list_word=list(thai_orst_words())"
   ]
  },
  {
   "cell_type": "code",
   "execution_count": null,
   "id": "80d312df-847d-43e9-8e42-f52aa008b577",
   "metadata": {},
   "outputs": [],
   "source": [
    "# list_word=[i.replace(\"\") for i in list_word]"
   ]
  },
  {
   "cell_type": "code",
   "execution_count": 3,
   "id": "aa925f8c-edec-4a41-a3ea-413f8f43a33f",
   "metadata": {},
   "outputs": [],
   "source": [
    "list_space=[i for i in list_word if \" \" in i]"
   ]
  },
  {
   "cell_type": "code",
   "execution_count": 4,
   "id": "20f60f11-9013-45f5-ae94-cca4a8b4b614",
   "metadata": {},
   "outputs": [
    {
     "data": {
      "text/plain": [
       "524"
      ]
     },
     "execution_count": 4,
     "metadata": {},
     "output_type": "execute_result"
    }
   ],
   "source": [
    "len(list_space)"
   ]
  },
  {
   "cell_type": "code",
   "execution_count": 7,
   "id": "01a5c3f9-08d5-4b6e-9d67-96ca981f214f",
   "metadata": {},
   "outputs": [],
   "source": [
    "# list_space[100:120]"
   ]
  },
  {
   "cell_type": "code",
   "execution_count": 8,
   "id": "297f822f-c8ee-4030-9b8b-4491e67e8f43",
   "metadata": {},
   "outputs": [],
   "source": [
    "list_word_use=[i for i in list_word if \" \" not in i]"
   ]
  },
  {
   "cell_type": "code",
   "execution_count": 9,
   "id": "edf7df40-ba97-4d76-b420-28d69dd99039",
   "metadata": {},
   "outputs": [
    {
     "data": {
      "text/plain": [
       "37636"
      ]
     },
     "execution_count": 9,
     "metadata": {},
     "output_type": "execute_result"
    }
   ],
   "source": [
    "len(list_word_use)"
   ]
  },
  {
   "cell_type": "code",
   "execution_count": 10,
   "id": "554dc5dc-8716-4d4d-b5ec-5641c61ee66d",
   "metadata": {},
   "outputs": [],
   "source": [
    "txt_list_word_use='\\n'.join(list_word_use)"
   ]
  },
  {
   "cell_type": "code",
   "execution_count": 11,
   "id": "4eaae441-d039-4745-8550-d8a80ec2b7bf",
   "metadata": {},
   "outputs": [
    {
     "data": {
      "text/plain": [
       "'ดูแล\\nหืดขึ้นคอ\\nครึม\\nวุฒิสภา\\nทะนุ\\nศรัถนะ\\nรุรุ\\nปื๋อ\\nผู้หลักผู้ใหญ่\\nกะริง\\nวีรกรรม\\nกูณฑ์\\nถีบหัวส่ง\\nแบ่งเ'"
      ]
     },
     "execution_count": 11,
     "metadata": {},
     "output_type": "execute_result"
    }
   ],
   "source": [
    "txt_list_word_use[0:100]"
   ]
  },
  {
   "cell_type": "code",
   "execution_count": 13,
   "id": "dcaf05ca-e29f-419d-9454-a1c0e136bae4",
   "metadata": {},
   "outputs": [],
   "source": [
    "words_char = list(txt_list_word_use)"
   ]
  },
  {
   "cell_type": "code",
   "execution_count": 14,
   "id": "d91667b8-39d5-42b0-ac9a-1abdd2e68919",
   "metadata": {},
   "outputs": [],
   "source": [
    "with open('words-char.txt', mode='w', encoding='utf-8') as file:\n",
    "    file.write(' '.join(words_char))"
   ]
  },
  {
   "cell_type": "code",
   "execution_count": null,
   "id": "f51774a7-5567-44ed-a80c-fb7ca5424807",
   "metadata": {},
   "outputs": [],
   "source": []
  }
 ],
 "metadata": {
  "kernelspec": {
   "display_name": "Python 3 (ipykernel)",
   "language": "python",
   "name": "python3"
  },
  "language_info": {
   "codemirror_mode": {
    "name": "ipython",
    "version": 3
   },
   "file_extension": ".py",
   "mimetype": "text/x-python",
   "name": "python",
   "nbconvert_exporter": "python",
   "pygments_lexer": "ipython3",
   "version": "3.10.12"
  }
 },
 "nbformat": 4,
 "nbformat_minor": 5
}
