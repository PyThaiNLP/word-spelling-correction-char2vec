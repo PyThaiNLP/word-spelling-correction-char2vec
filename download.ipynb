{
 "cells": [
  {
   "cell_type": "code",
   "execution_count": 1,
   "id": "6e2df697-1cdf-47c8-9713-4b93f799cd80",
   "metadata": {},
   "outputs": [
    {
     "name": "stdout",
     "output_type": "stream",
     "text": [
      "--2025-10-16 18:10:44--  https://github.com/PyThaiNLP/pythainlp/raw/refs/heads/dev/pythainlp/corpus/orst_words_th.txt\n",
      "Resolving github.com (github.com)... 20.205.243.166\n",
      "Connecting to github.com (github.com)|20.205.243.166|:443... connected.\n",
      "HTTP request sent, awaiting response... 302 Found\n",
      "Location: https://raw.githubusercontent.com/PyThaiNLP/pythainlp/refs/heads/dev/pythainlp/corpus/orst_words_th.txt [following]\n",
      "--2025-10-16 18:10:44--  https://raw.githubusercontent.com/PyThaiNLP/pythainlp/refs/heads/dev/pythainlp/corpus/orst_words_th.txt\n",
      "Resolving raw.githubusercontent.com (raw.githubusercontent.com)... 185.199.110.133, 185.199.108.133, 185.199.109.133, ...\n",
      "Connecting to raw.githubusercontent.com (raw.githubusercontent.com)|185.199.110.133|:443... connected.\n",
      "HTTP request sent, awaiting response... 200 OK\n",
      "Length: 864206 (844K) [text/plain]\n",
      "Saving to: ‘orst_words_th.txt.1’\n",
      "\n",
      "orst_words_th.txt.1 100%[===================>] 843.95K  --.-KB/s    in 0.03s   \n",
      "\n",
      "2025-10-16 18:10:45 (29.9 MB/s) - ‘orst_words_th.txt.1’ saved [864206/864206]\n",
      "\n"
     ]
    }
   ],
   "source": [
    "!wget https://github.com/PyThaiNLP/pythainlp/raw/refs/heads/dev/pythainlp/corpus/orst_words_th.txt"
   ]
  },
  {
   "cell_type": "code",
   "execution_count": null,
   "id": "556ae904-6d35-48d7-9046-5e4393a5484f",
   "metadata": {},
   "outputs": [],
   "source": []
  }
 ],
 "metadata": {
  "kernelspec": {
   "display_name": "Python 3 (ipykernel)",
   "language": "python",
   "name": "python3"
  },
  "language_info": {
   "codemirror_mode": {
    "name": "ipython",
    "version": 3
   },
   "file_extension": ".py",
   "mimetype": "text/x-python",
   "name": "python",
   "nbconvert_exporter": "python",
   "pygments_lexer": "ipython3",
   "version": "3.10.12"
  }
 },
 "nbformat": 4,
 "nbformat_minor": 5
}
