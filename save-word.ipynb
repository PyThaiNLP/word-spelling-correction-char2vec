{
 "cells": [
  {
   "cell_type": "code",
   "execution_count": 1,
   "id": "353eae9a-c70a-4925-8e19-7589e57d57d3",
   "metadata": {},
   "outputs": [],
   "source": [
    "from pythainlp.corpus import thai_orst_words"
   ]
  },
  {
   "cell_type": "code",
   "execution_count": 2,
   "id": "1be76124-fba9-4d66-a7c8-dd15fb239383",
   "metadata": {},
   "outputs": [],
   "source": [
    "list_word=sorted(list(thai_orst_words()))"
   ]
  },
  {
   "cell_type": "code",
   "execution_count": 3,
   "id": "a9824053-20b7-428a-820c-df7c26aabb4d",
   "metadata": {},
   "outputs": [],
   "source": [
    "with open(\"list_word-spelling-correction-char2vec.txt\",\"w\") as f:\n",
    "    f.write('\\n'.join(list_word).strip())"
   ]
  },
  {
   "cell_type": "code",
   "execution_count": null,
   "id": "2fe57955-7deb-4fdf-b96a-985f75000bf0",
   "metadata": {},
   "outputs": [],
   "source": []
  }
 ],
 "metadata": {
  "kernelspec": {
   "display_name": "Python 3 (ipykernel)",
   "language": "python",
   "name": "python3"
  },
  "language_info": {
   "codemirror_mode": {
    "name": "ipython",
    "version": 3
   },
   "file_extension": ".py",
   "mimetype": "text/x-python",
   "name": "python",
   "nbconvert_exporter": "python",
   "pygments_lexer": "ipython3",
   "version": "3.10.12"
  }
 },
 "nbformat": 4,
 "nbformat_minor": 5
}
