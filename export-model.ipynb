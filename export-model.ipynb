{
 "cells": [
  {
   "cell_type": "code",
   "execution_count": 1,
   "id": "30f4b195-8f95-41a7-9f4d-b63ff8078f18",
   "metadata": {},
   "outputs": [],
   "source": [
    "import numpy as np\n",
    "import os"
   ]
  },
  {
   "cell_type": "code",
   "execution_count": 2,
   "id": "fbbf2610-cd3e-4a70-8c01-33ea3ddf7e74",
   "metadata": {},
   "outputs": [],
   "source": [
    "import fasttext\n",
    "import joblib\n",
    "\n",
    "words = joblib.load('words.joblib')\n",
    "nbrs = joblib.load('nbrs.joblib')"
   ]
  },
  {
   "cell_type": "code",
   "execution_count": 3,
   "id": "4cefb344-82d7-48fb-b472-09d88948ceab",
   "metadata": {},
   "outputs": [],
   "source": [
    "wordlist=words.tolist()"
   ]
  },
  {
   "cell_type": "code",
   "execution_count": 4,
   "id": "ae479a05-a346-4623-9dac-97f465deea17",
   "metadata": {},
   "outputs": [],
   "source": [
    "def load_embeddings(output_dir):\n",
    "  input_matrix = np.load(os.path.join(output_dir, \"embeddings.npy\"))\n",
    "  words = []\n",
    "  with open(os.path.join(output_dir, \"vocabulary.txt\"), \"r\", encoding='utf-8') as f:\n",
    "    for line in f.readlines():\n",
    "      words.append(line.rstrip())\n",
    "  return words, input_matrix\n",
    "\n",
    "vocabulary, embeddings = load_embeddings('model/')"
   ]
  },
  {
   "cell_type": "code",
   "execution_count": 5,
   "id": "01fad355-46cd-4e1f-ae41-b894ecb628e1",
   "metadata": {},
   "outputs": [],
   "source": [
    "def get_hash(subword, bucket=2000000, nb_words=2000000):\n",
    "  h = 2166136261\n",
    "  for c in subword:\n",
    "    c = ord(c) % 2**8\n",
    "    h = (h ^ c) % 2**32\n",
    "    h = (h * 16777619) % 2**32\n",
    "  return h % bucket + nb_words\n",
    "def get_subwords(word, vocabulary, minn=5, maxn=5):\n",
    "  _word = \"<\" + word + \">\"\n",
    "  _subwords = []\n",
    "  _subword_ids = []\n",
    "  if word in vocabulary:\n",
    "    _subwords.append(word)\n",
    "    _subword_ids.append(vocabulary.index(word))\n",
    "    if word == \"</s>\":\n",
    "      return _subwords, np.array(_subword_ids)\n",
    "  for ngram_start in range(0, len(_word)):\n",
    "    for ngram_length in range(minn, maxn+1):\n",
    "      if ngram_start+ngram_length <= len(_word):\n",
    "        _candidate_subword = _word[ngram_start:ngram_start+ngram_length]\n",
    "        if _candidate_subword not in _subwords:\n",
    "          _subwords.append(_candidate_subword)\n",
    "          _subword_ids.append(get_hash(_candidate_subword))\n",
    "  return _subwords, np.array(_subword_ids)\n",
    "def get_word_vector(word, vocabulary, embeddings):\n",
    "  # subwords[1] contains the array of indices for the word and its subwords\n",
    "  subword_ids = get_subwords(word, vocabulary)[1]\n",
    "  \n",
    "  # Check if the array of subword indices is empty\n",
    "  if subword_ids.size == 0:\n",
    "    # 💥 FIX: If no word/subword is found, return a 300-dimensional zero vector.\n",
    "    # This ensures that all elements appended to the 'vectors' list have the same shape.\n",
    "    embedding_dim = embeddings.shape[1] # This should be 300\n",
    "    return np.zeros(embedding_dim)\n",
    "\n",
    "  # Otherwise, compute the mean as before\n",
    "  return np.mean([embeddings[s] for s in subword_ids], axis=0)\n",
    "def tokenize(sentence):\n",
    "  tokens = []\n",
    "  word = \"\"\n",
    "  for c in sentence:\n",
    "    if c in [' ', '\\n', '\\r', '\\t', '\\v', '\\f', '\\0']:\n",
    "      if word:\n",
    "        tokens.append(word)\n",
    "        word = \"\"\n",
    "      if c == '\\n':\n",
    "        tokens.append(\"</s>\")\n",
    "    else:\n",
    "      word += c\n",
    "  if word:\n",
    "    tokens.append(word)\n",
    "  return tokens\n",
    "\n",
    "def get_sentence_vector(line):\n",
    "    tokens = tokenize(line)\n",
    "    vectors = []\n",
    "    for t in tokens:\n",
    "        vec = get_word_vector(t, vocabulary, embeddings)\n",
    "        norm = np.linalg.norm(vec)\n",
    "        if norm > 0:\n",
    "            vec /= norm\n",
    "        vectors.append(vec)\n",
    "    return np.mean(vectors, axis=0)"
   ]
  },
  {
   "cell_type": "code",
   "execution_count": 6,
   "id": "ea324282-d7e6-476f-a6f3-11e96c8185f2",
   "metadata": {},
   "outputs": [],
   "source": [
    "words_input = ['การบด้าน', 'สวัดี', 'vออกเลอร์', 'ปละเทศไทยย', 'อรอย']"
   ]
  },
  {
   "cell_type": "code",
   "execution_count": 7,
   "id": "20336355-9337-4682-87b2-a6eaafabf22a",
   "metadata": {},
   "outputs": [
    {
     "data": {
      "text/plain": [
       "'v อ อ ก เ ล อ ร ์'"
      ]
     },
     "execution_count": 7,
     "metadata": {},
     "output_type": "execute_result"
    }
   ],
   "source": [
    "' '.join(list(words_input[-3]))"
   ]
  },
  {
   "cell_type": "code",
   "execution_count": 8,
   "id": "e70df452-9ec5-42f0-9ba5-d8feeb977b14",
   "metadata": {},
   "outputs": [
    {
     "data": {
      "text/plain": [
       "array([ 0.07064344,  0.02868866,  0.0450275 , -0.09357667,  0.07799961,\n",
       "       -0.01659612, -0.03994706,  0.02467421,  0.06386302,  0.01014723,\n",
       "        0.00586393, -0.00511677, -0.04473881,  0.02240631, -0.00792691,\n",
       "       -0.04050883, -0.01842077, -0.03816694,  0.03310383, -0.04765693,\n",
       "       -0.01877511,  0.0173038 , -0.02365492, -0.0524214 , -0.00238156,\n",
       "       -0.01424657,  0.0097129 , -0.03103621, -0.01206911, -0.02017615,\n",
       "        0.05735345,  0.0350092 , -0.0109985 ,  0.01728996, -0.06626441,\n",
       "       -0.0402539 , -0.03565674, -0.00495577,  0.02013647, -0.02001686,\n",
       "       -0.00338332, -0.06862625,  0.04504699,  0.04516517,  0.04703264,\n",
       "        0.00171725,  0.01698291, -0.03530983, -0.01771621,  0.00118982,\n",
       "       -0.06714062,  0.03024822, -0.0108296 , -0.10299826, -0.06772696,\n",
       "       -0.04453408,  0.01552465,  0.00672687,  0.03721033,  0.07133001,\n",
       "       -0.05051875,  0.00600575,  0.01320744, -0.07520515, -0.03936205,\n",
       "        0.04523896, -0.04980612,  0.04056922, -0.07245174,  0.0077563 ,\n",
       "       -0.05957493, -0.04381923,  0.05309836, -0.06127343, -0.02452361,\n",
       "        0.0560549 , -0.06474098,  0.00445106, -0.01512536,  0.0022644 ,\n",
       "        0.03001111, -0.0052284 , -0.04480007, -0.01550584, -0.01749457,\n",
       "       -0.00892717, -0.02281209,  0.06404609, -0.02200672,  0.08740121,\n",
       "       -0.00244042,  0.00091594,  0.07312005, -0.00872452, -0.01785819,\n",
       "       -0.07879178, -0.03012873,  0.02410047,  0.00033354, -0.04347849])"
      ]
     },
     "execution_count": 8,
     "metadata": {},
     "output_type": "execute_result"
    }
   ],
   "source": [
    "get_sentence_vector(' '.join(list(words_input[-3])))"
   ]
  },
  {
   "cell_type": "code",
   "execution_count": 9,
   "id": "c8960a9e-6f61-4d19-8811-818c782673bf",
   "metadata": {},
   "outputs": [
    {
     "name": "stdout",
     "output_type": "stream",
     "text": [
      "การบด้าน \n",
      "---> ['การบ้าน' 'ภาษากึ่งแบบแผน' 'ทำการบ้าน' 'แก้วสารพัดนึก' 'การจัดรูปที่ดิน']\n",
      "สวัดี \n",
      "---> ['วสวัดดี' 'สวัสดี' 'ดบัสวี' 'วิดัสดี' 'สรัสวดี']\n",
      "vออกเลอร์ \n",
      "---> ['ออร์แกน' 'อาร์กอน' 'ออกเบอร์' 'เอทิลแอลกอฮอล์' 'คลอโรฟอร์ม']\n",
      "ปละเทศไทยย \n",
      "---> ['กระเทียมโทน' 'ทะเลทราย' 'กะเทย' 'ทรงกระเทียม' 'กระเทียม']\n",
      "อรอย \n",
      "---> ['รอย' 'อร่อย' 'ร่องรอย' 'เอร็ดอร่อย' 'ย้อนรอย']\n"
     ]
    }
   ],
   "source": [
    "word_input_vec = [get_sentence_vector(' '.join(list(word))) for word in words_input]\n",
    "indices = nbrs.kneighbors(word_input_vec, 5, False)  # n_neighbors is 5\n",
    "suggestion = words[indices]\n",
    "\n",
    "for w, s in zip(words_input, suggestion):\n",
    "    print(f'{w} \\n---> {s}')"
   ]
  },
  {
   "cell_type": "code",
   "execution_count": 10,
   "id": "5c4298c8-f329-4d9e-9633-3fdd1396156d",
   "metadata": {},
   "outputs": [
    {
     "data": {
      "text/html": [
       "<style>#sk-container-id-1 {\n",
       "  /* Definition of color scheme common for light and dark mode */\n",
       "  --sklearn-color-text: #000;\n",
       "  --sklearn-color-text-muted: #666;\n",
       "  --sklearn-color-line: gray;\n",
       "  /* Definition of color scheme for unfitted estimators */\n",
       "  --sklearn-color-unfitted-level-0: #fff5e6;\n",
       "  --sklearn-color-unfitted-level-1: #f6e4d2;\n",
       "  --sklearn-color-unfitted-level-2: #ffe0b3;\n",
       "  --sklearn-color-unfitted-level-3: chocolate;\n",
       "  /* Definition of color scheme for fitted estimators */\n",
       "  --sklearn-color-fitted-level-0: #f0f8ff;\n",
       "  --sklearn-color-fitted-level-1: #d4ebff;\n",
       "  --sklearn-color-fitted-level-2: #b3dbfd;\n",
       "  --sklearn-color-fitted-level-3: cornflowerblue;\n",
       "\n",
       "  /* Specific color for light theme */\n",
       "  --sklearn-color-text-on-default-background: var(--sg-text-color, var(--theme-code-foreground, var(--jp-content-font-color1, black)));\n",
       "  --sklearn-color-background: var(--sg-background-color, var(--theme-background, var(--jp-layout-color0, white)));\n",
       "  --sklearn-color-border-box: var(--sg-text-color, var(--theme-code-foreground, var(--jp-content-font-color1, black)));\n",
       "  --sklearn-color-icon: #696969;\n",
       "\n",
       "  @media (prefers-color-scheme: dark) {\n",
       "    /* Redefinition of color scheme for dark theme */\n",
       "    --sklearn-color-text-on-default-background: var(--sg-text-color, var(--theme-code-foreground, var(--jp-content-font-color1, white)));\n",
       "    --sklearn-color-background: var(--sg-background-color, var(--theme-background, var(--jp-layout-color0, #111)));\n",
       "    --sklearn-color-border-box: var(--sg-text-color, var(--theme-code-foreground, var(--jp-content-font-color1, white)));\n",
       "    --sklearn-color-icon: #878787;\n",
       "  }\n",
       "}\n",
       "\n",
       "#sk-container-id-1 {\n",
       "  color: var(--sklearn-color-text);\n",
       "}\n",
       "\n",
       "#sk-container-id-1 pre {\n",
       "  padding: 0;\n",
       "}\n",
       "\n",
       "#sk-container-id-1 input.sk-hidden--visually {\n",
       "  border: 0;\n",
       "  clip: rect(1px 1px 1px 1px);\n",
       "  clip: rect(1px, 1px, 1px, 1px);\n",
       "  height: 1px;\n",
       "  margin: -1px;\n",
       "  overflow: hidden;\n",
       "  padding: 0;\n",
       "  position: absolute;\n",
       "  width: 1px;\n",
       "}\n",
       "\n",
       "#sk-container-id-1 div.sk-dashed-wrapped {\n",
       "  border: 1px dashed var(--sklearn-color-line);\n",
       "  margin: 0 0.4em 0.5em 0.4em;\n",
       "  box-sizing: border-box;\n",
       "  padding-bottom: 0.4em;\n",
       "  background-color: var(--sklearn-color-background);\n",
       "}\n",
       "\n",
       "#sk-container-id-1 div.sk-container {\n",
       "  /* jupyter's `normalize.less` sets `[hidden] { display: none; }`\n",
       "     but bootstrap.min.css set `[hidden] { display: none !important; }`\n",
       "     so we also need the `!important` here to be able to override the\n",
       "     default hidden behavior on the sphinx rendered scikit-learn.org.\n",
       "     See: https://github.com/scikit-learn/scikit-learn/issues/21755 */\n",
       "  display: inline-block !important;\n",
       "  position: relative;\n",
       "}\n",
       "\n",
       "#sk-container-id-1 div.sk-text-repr-fallback {\n",
       "  display: none;\n",
       "}\n",
       "\n",
       "div.sk-parallel-item,\n",
       "div.sk-serial,\n",
       "div.sk-item {\n",
       "  /* draw centered vertical line to link estimators */\n",
       "  background-image: linear-gradient(var(--sklearn-color-text-on-default-background), var(--sklearn-color-text-on-default-background));\n",
       "  background-size: 2px 100%;\n",
       "  background-repeat: no-repeat;\n",
       "  background-position: center center;\n",
       "}\n",
       "\n",
       "/* Parallel-specific style estimator block */\n",
       "\n",
       "#sk-container-id-1 div.sk-parallel-item::after {\n",
       "  content: \"\";\n",
       "  width: 100%;\n",
       "  border-bottom: 2px solid var(--sklearn-color-text-on-default-background);\n",
       "  flex-grow: 1;\n",
       "}\n",
       "\n",
       "#sk-container-id-1 div.sk-parallel {\n",
       "  display: flex;\n",
       "  align-items: stretch;\n",
       "  justify-content: center;\n",
       "  background-color: var(--sklearn-color-background);\n",
       "  position: relative;\n",
       "}\n",
       "\n",
       "#sk-container-id-1 div.sk-parallel-item {\n",
       "  display: flex;\n",
       "  flex-direction: column;\n",
       "}\n",
       "\n",
       "#sk-container-id-1 div.sk-parallel-item:first-child::after {\n",
       "  align-self: flex-end;\n",
       "  width: 50%;\n",
       "}\n",
       "\n",
       "#sk-container-id-1 div.sk-parallel-item:last-child::after {\n",
       "  align-self: flex-start;\n",
       "  width: 50%;\n",
       "}\n",
       "\n",
       "#sk-container-id-1 div.sk-parallel-item:only-child::after {\n",
       "  width: 0;\n",
       "}\n",
       "\n",
       "/* Serial-specific style estimator block */\n",
       "\n",
       "#sk-container-id-1 div.sk-serial {\n",
       "  display: flex;\n",
       "  flex-direction: column;\n",
       "  align-items: center;\n",
       "  background-color: var(--sklearn-color-background);\n",
       "  padding-right: 1em;\n",
       "  padding-left: 1em;\n",
       "}\n",
       "\n",
       "\n",
       "/* Toggleable style: style used for estimator/Pipeline/ColumnTransformer box that is\n",
       "clickable and can be expanded/collapsed.\n",
       "- Pipeline and ColumnTransformer use this feature and define the default style\n",
       "- Estimators will overwrite some part of the style using the `sk-estimator` class\n",
       "*/\n",
       "\n",
       "/* Pipeline and ColumnTransformer style (default) */\n",
       "\n",
       "#sk-container-id-1 div.sk-toggleable {\n",
       "  /* Default theme specific background. It is overwritten whether we have a\n",
       "  specific estimator or a Pipeline/ColumnTransformer */\n",
       "  background-color: var(--sklearn-color-background);\n",
       "}\n",
       "\n",
       "/* Toggleable label */\n",
       "#sk-container-id-1 label.sk-toggleable__label {\n",
       "  cursor: pointer;\n",
       "  display: flex;\n",
       "  width: 100%;\n",
       "  margin-bottom: 0;\n",
       "  padding: 0.5em;\n",
       "  box-sizing: border-box;\n",
       "  text-align: center;\n",
       "  align-items: start;\n",
       "  justify-content: space-between;\n",
       "  gap: 0.5em;\n",
       "}\n",
       "\n",
       "#sk-container-id-1 label.sk-toggleable__label .caption {\n",
       "  font-size: 0.6rem;\n",
       "  font-weight: lighter;\n",
       "  color: var(--sklearn-color-text-muted);\n",
       "}\n",
       "\n",
       "#sk-container-id-1 label.sk-toggleable__label-arrow:before {\n",
       "  /* Arrow on the left of the label */\n",
       "  content: \"▸\";\n",
       "  float: left;\n",
       "  margin-right: 0.25em;\n",
       "  color: var(--sklearn-color-icon);\n",
       "}\n",
       "\n",
       "#sk-container-id-1 label.sk-toggleable__label-arrow:hover:before {\n",
       "  color: var(--sklearn-color-text);\n",
       "}\n",
       "\n",
       "/* Toggleable content - dropdown */\n",
       "\n",
       "#sk-container-id-1 div.sk-toggleable__content {\n",
       "  max-height: 0;\n",
       "  max-width: 0;\n",
       "  overflow: hidden;\n",
       "  text-align: left;\n",
       "  /* unfitted */\n",
       "  background-color: var(--sklearn-color-unfitted-level-0);\n",
       "}\n",
       "\n",
       "#sk-container-id-1 div.sk-toggleable__content.fitted {\n",
       "  /* fitted */\n",
       "  background-color: var(--sklearn-color-fitted-level-0);\n",
       "}\n",
       "\n",
       "#sk-container-id-1 div.sk-toggleable__content pre {\n",
       "  margin: 0.2em;\n",
       "  border-radius: 0.25em;\n",
       "  color: var(--sklearn-color-text);\n",
       "  /* unfitted */\n",
       "  background-color: var(--sklearn-color-unfitted-level-0);\n",
       "}\n",
       "\n",
       "#sk-container-id-1 div.sk-toggleable__content.fitted pre {\n",
       "  /* unfitted */\n",
       "  background-color: var(--sklearn-color-fitted-level-0);\n",
       "}\n",
       "\n",
       "#sk-container-id-1 input.sk-toggleable__control:checked~div.sk-toggleable__content {\n",
       "  /* Expand drop-down */\n",
       "  max-height: 200px;\n",
       "  max-width: 100%;\n",
       "  overflow: auto;\n",
       "}\n",
       "\n",
       "#sk-container-id-1 input.sk-toggleable__control:checked~label.sk-toggleable__label-arrow:before {\n",
       "  content: \"▾\";\n",
       "}\n",
       "\n",
       "/* Pipeline/ColumnTransformer-specific style */\n",
       "\n",
       "#sk-container-id-1 div.sk-label input.sk-toggleable__control:checked~label.sk-toggleable__label {\n",
       "  color: var(--sklearn-color-text);\n",
       "  background-color: var(--sklearn-color-unfitted-level-2);\n",
       "}\n",
       "\n",
       "#sk-container-id-1 div.sk-label.fitted input.sk-toggleable__control:checked~label.sk-toggleable__label {\n",
       "  background-color: var(--sklearn-color-fitted-level-2);\n",
       "}\n",
       "\n",
       "/* Estimator-specific style */\n",
       "\n",
       "/* Colorize estimator box */\n",
       "#sk-container-id-1 div.sk-estimator input.sk-toggleable__control:checked~label.sk-toggleable__label {\n",
       "  /* unfitted */\n",
       "  background-color: var(--sklearn-color-unfitted-level-2);\n",
       "}\n",
       "\n",
       "#sk-container-id-1 div.sk-estimator.fitted input.sk-toggleable__control:checked~label.sk-toggleable__label {\n",
       "  /* fitted */\n",
       "  background-color: var(--sklearn-color-fitted-level-2);\n",
       "}\n",
       "\n",
       "#sk-container-id-1 div.sk-label label.sk-toggleable__label,\n",
       "#sk-container-id-1 div.sk-label label {\n",
       "  /* The background is the default theme color */\n",
       "  color: var(--sklearn-color-text-on-default-background);\n",
       "}\n",
       "\n",
       "/* On hover, darken the color of the background */\n",
       "#sk-container-id-1 div.sk-label:hover label.sk-toggleable__label {\n",
       "  color: var(--sklearn-color-text);\n",
       "  background-color: var(--sklearn-color-unfitted-level-2);\n",
       "}\n",
       "\n",
       "/* Label box, darken color on hover, fitted */\n",
       "#sk-container-id-1 div.sk-label.fitted:hover label.sk-toggleable__label.fitted {\n",
       "  color: var(--sklearn-color-text);\n",
       "  background-color: var(--sklearn-color-fitted-level-2);\n",
       "}\n",
       "\n",
       "/* Estimator label */\n",
       "\n",
       "#sk-container-id-1 div.sk-label label {\n",
       "  font-family: monospace;\n",
       "  font-weight: bold;\n",
       "  display: inline-block;\n",
       "  line-height: 1.2em;\n",
       "}\n",
       "\n",
       "#sk-container-id-1 div.sk-label-container {\n",
       "  text-align: center;\n",
       "}\n",
       "\n",
       "/* Estimator-specific */\n",
       "#sk-container-id-1 div.sk-estimator {\n",
       "  font-family: monospace;\n",
       "  border: 1px dotted var(--sklearn-color-border-box);\n",
       "  border-radius: 0.25em;\n",
       "  box-sizing: border-box;\n",
       "  margin-bottom: 0.5em;\n",
       "  /* unfitted */\n",
       "  background-color: var(--sklearn-color-unfitted-level-0);\n",
       "}\n",
       "\n",
       "#sk-container-id-1 div.sk-estimator.fitted {\n",
       "  /* fitted */\n",
       "  background-color: var(--sklearn-color-fitted-level-0);\n",
       "}\n",
       "\n",
       "/* on hover */\n",
       "#sk-container-id-1 div.sk-estimator:hover {\n",
       "  /* unfitted */\n",
       "  background-color: var(--sklearn-color-unfitted-level-2);\n",
       "}\n",
       "\n",
       "#sk-container-id-1 div.sk-estimator.fitted:hover {\n",
       "  /* fitted */\n",
       "  background-color: var(--sklearn-color-fitted-level-2);\n",
       "}\n",
       "\n",
       "/* Specification for estimator info (e.g. \"i\" and \"?\") */\n",
       "\n",
       "/* Common style for \"i\" and \"?\" */\n",
       "\n",
       ".sk-estimator-doc-link,\n",
       "a:link.sk-estimator-doc-link,\n",
       "a:visited.sk-estimator-doc-link {\n",
       "  float: right;\n",
       "  font-size: smaller;\n",
       "  line-height: 1em;\n",
       "  font-family: monospace;\n",
       "  background-color: var(--sklearn-color-background);\n",
       "  border-radius: 1em;\n",
       "  height: 1em;\n",
       "  width: 1em;\n",
       "  text-decoration: none !important;\n",
       "  margin-left: 0.5em;\n",
       "  text-align: center;\n",
       "  /* unfitted */\n",
       "  border: var(--sklearn-color-unfitted-level-1) 1pt solid;\n",
       "  color: var(--sklearn-color-unfitted-level-1);\n",
       "}\n",
       "\n",
       ".sk-estimator-doc-link.fitted,\n",
       "a:link.sk-estimator-doc-link.fitted,\n",
       "a:visited.sk-estimator-doc-link.fitted {\n",
       "  /* fitted */\n",
       "  border: var(--sklearn-color-fitted-level-1) 1pt solid;\n",
       "  color: var(--sklearn-color-fitted-level-1);\n",
       "}\n",
       "\n",
       "/* On hover */\n",
       "div.sk-estimator:hover .sk-estimator-doc-link:hover,\n",
       ".sk-estimator-doc-link:hover,\n",
       "div.sk-label-container:hover .sk-estimator-doc-link:hover,\n",
       ".sk-estimator-doc-link:hover {\n",
       "  /* unfitted */\n",
       "  background-color: var(--sklearn-color-unfitted-level-3);\n",
       "  color: var(--sklearn-color-background);\n",
       "  text-decoration: none;\n",
       "}\n",
       "\n",
       "div.sk-estimator.fitted:hover .sk-estimator-doc-link.fitted:hover,\n",
       ".sk-estimator-doc-link.fitted:hover,\n",
       "div.sk-label-container:hover .sk-estimator-doc-link.fitted:hover,\n",
       ".sk-estimator-doc-link.fitted:hover {\n",
       "  /* fitted */\n",
       "  background-color: var(--sklearn-color-fitted-level-3);\n",
       "  color: var(--sklearn-color-background);\n",
       "  text-decoration: none;\n",
       "}\n",
       "\n",
       "/* Span, style for the box shown on hovering the info icon */\n",
       ".sk-estimator-doc-link span {\n",
       "  display: none;\n",
       "  z-index: 9999;\n",
       "  position: relative;\n",
       "  font-weight: normal;\n",
       "  right: .2ex;\n",
       "  padding: .5ex;\n",
       "  margin: .5ex;\n",
       "  width: min-content;\n",
       "  min-width: 20ex;\n",
       "  max-width: 50ex;\n",
       "  color: var(--sklearn-color-text);\n",
       "  box-shadow: 2pt 2pt 4pt #999;\n",
       "  /* unfitted */\n",
       "  background: var(--sklearn-color-unfitted-level-0);\n",
       "  border: .5pt solid var(--sklearn-color-unfitted-level-3);\n",
       "}\n",
       "\n",
       ".sk-estimator-doc-link.fitted span {\n",
       "  /* fitted */\n",
       "  background: var(--sklearn-color-fitted-level-0);\n",
       "  border: var(--sklearn-color-fitted-level-3);\n",
       "}\n",
       "\n",
       ".sk-estimator-doc-link:hover span {\n",
       "  display: block;\n",
       "}\n",
       "\n",
       "/* \"?\"-specific style due to the `<a>` HTML tag */\n",
       "\n",
       "#sk-container-id-1 a.estimator_doc_link {\n",
       "  float: right;\n",
       "  font-size: 1rem;\n",
       "  line-height: 1em;\n",
       "  font-family: monospace;\n",
       "  background-color: var(--sklearn-color-background);\n",
       "  border-radius: 1rem;\n",
       "  height: 1rem;\n",
       "  width: 1rem;\n",
       "  text-decoration: none;\n",
       "  /* unfitted */\n",
       "  color: var(--sklearn-color-unfitted-level-1);\n",
       "  border: var(--sklearn-color-unfitted-level-1) 1pt solid;\n",
       "}\n",
       "\n",
       "#sk-container-id-1 a.estimator_doc_link.fitted {\n",
       "  /* fitted */\n",
       "  border: var(--sklearn-color-fitted-level-1) 1pt solid;\n",
       "  color: var(--sklearn-color-fitted-level-1);\n",
       "}\n",
       "\n",
       "/* On hover */\n",
       "#sk-container-id-1 a.estimator_doc_link:hover {\n",
       "  /* unfitted */\n",
       "  background-color: var(--sklearn-color-unfitted-level-3);\n",
       "  color: var(--sklearn-color-background);\n",
       "  text-decoration: none;\n",
       "}\n",
       "\n",
       "#sk-container-id-1 a.estimator_doc_link.fitted:hover {\n",
       "  /* fitted */\n",
       "  background-color: var(--sklearn-color-fitted-level-3);\n",
       "}\n",
       "</style><div id=\"sk-container-id-1\" class=\"sk-top-container\"><div class=\"sk-text-repr-fallback\"><pre>NearestNeighbors(radius=None)</pre><b>In a Jupyter environment, please rerun this cell to show the HTML representation or trust the notebook. <br />On GitHub, the HTML representation is unable to render, please try loading this page with nbviewer.org.</b></div><div class=\"sk-container\" hidden><div class=\"sk-item\"><div class=\"sk-estimator fitted sk-toggleable\"><input class=\"sk-toggleable__control sk-hidden--visually\" id=\"sk-estimator-id-1\" type=\"checkbox\" checked><label for=\"sk-estimator-id-1\" class=\"sk-toggleable__label fitted sk-toggleable__label-arrow\"><div><div>NearestNeighbors</div></div><div><a class=\"sk-estimator-doc-link fitted\" rel=\"noreferrer\" target=\"_blank\" href=\"https://scikit-learn.org/1.6/modules/generated/sklearn.neighbors.NearestNeighbors.html\">?<span>Documentation for NearestNeighbors</span></a><span class=\"sk-estimator-doc-link fitted\">i<span>Fitted</span></span></div></label><div class=\"sk-toggleable__content fitted\"><pre>NearestNeighbors(radius=None)</pre></div> </div></div></div></div>"
      ],
      "text/plain": [
       "NearestNeighbors(radius=None)"
      ]
     },
     "execution_count": 10,
     "metadata": {},
     "output_type": "execute_result"
    }
   ],
   "source": [
    "nbrs"
   ]
  },
  {
   "cell_type": "code",
   "execution_count": 11,
   "id": "36966790-6cee-423c-b2eb-5863d55a1f51",
   "metadata": {},
   "outputs": [],
   "source": [
    "from onnxruntime import InferenceSession\n",
    "from sklearn.datasets import load_diabetes\n",
    "from sklearn.ensemble import (\n",
    "    GradientBoostingRegressor,\n",
    "    RandomForestRegressor,\n",
    "    VotingRegressor,\n",
    ")\n",
    "from sklearn.linear_model import LinearRegression\n",
    "from sklearn.model_selection import train_test_split\n",
    "from sklearn.pipeline import Pipeline\n",
    "from skl2onnx import to_onnx\n",
    "from onnx.reference import ReferenceEvaluator\n",
    "from skl2onnx.common.data_types import FloatTensorType"
   ]
  },
  {
   "cell_type": "code",
   "execution_count": 12,
   "id": "c260cc67-9615-4182-b6f0-93cbcb673c01",
   "metadata": {},
   "outputs": [
    {
     "data": {
      "text/plain": [
       "numpy.ndarray"
      ]
     },
     "execution_count": 12,
     "metadata": {},
     "output_type": "execute_result"
    }
   ],
   "source": [
    "type(word_input_vec[0])"
   ]
  },
  {
   "cell_type": "code",
   "execution_count": 13,
   "id": "a6fd1dcd-9982-4492-8399-ce4dc510366d",
   "metadata": {},
   "outputs": [
    {
     "data": {
      "text/plain": [
       "(100,)"
      ]
     },
     "execution_count": 13,
     "metadata": {},
     "output_type": "execute_result"
    }
   ],
   "source": [
    "word_input_vec[4].shape"
   ]
  },
  {
   "cell_type": "code",
   "execution_count": 14,
   "id": "a00db45d-c0f9-497b-b7e1-18d77ce73756",
   "metadata": {},
   "outputs": [],
   "source": [
    "N_FEATURES = 100\n",
    "initial_types = [('X', FloatTensorType([None, N_FEATURES]))]"
   ]
  },
  {
   "cell_type": "code",
   "execution_count": 15,
   "id": "6556bd01-d307-45ce-844b-8cf2f842f9fa",
   "metadata": {},
   "outputs": [],
   "source": [
    "onx = to_onnx(nbrs, initial_types=initial_types, target_opset=13)"
   ]
  },
  {
   "cell_type": "code",
   "execution_count": 16,
   "id": "7b899100-b074-4e35-b7d3-59fc0ed171b1",
   "metadata": {},
   "outputs": [],
   "source": [
    "sess = InferenceSession(onx.SerializeToString(), providers=[\"CPUExecutionProvider\"])\n",
    "pred_ort = sess.run(None, {\"X\": word_input_vec[0].reshape(1, -1).astype(np.float32)})[0]\n",
    "\n",
    "# pred_skl = nbrs.predict(X_test.astype(numpy.float32))\n",
    "\n",
    "# print(\"Onnx Runtime prediction:\\n\", pred_ort[:5])\n",
    "# print(\"Sklearn rediction:\\n\", pred_skl[:5])"
   ]
  },
  {
   "cell_type": "code",
   "execution_count": 17,
   "id": "8839919a-392d-4aa9-92a9-05db0cd3c888",
   "metadata": {},
   "outputs": [
    {
     "data": {
      "text/plain": [
       "array([[ 2243, 17429, 10652, 34789,  2231]], dtype=int64)"
      ]
     },
     "execution_count": 17,
     "metadata": {},
     "output_type": "execute_result"
    }
   ],
   "source": [
    "pred_ort"
   ]
  },
  {
   "cell_type": "code",
   "execution_count": 18,
   "id": "16569a14-25a9-4204-ba39-1a0d114229eb",
   "metadata": {},
   "outputs": [
    {
     "data": {
      "text/plain": [
       "array([[ 2243, 17429, 10652, 34789,  2231],\n",
       "       [22315, 24316,  7695, 22787, 24147],\n",
       "       [28623, 29199, 28596, 34464,  4452],\n",
       "       [  988, 10436,  1889, 10097,   986],\n",
       "       [19770, 28444, 20756, 34476, 19542]], dtype=int64)"
      ]
     },
     "execution_count": 18,
     "metadata": {},
     "output_type": "execute_result"
    }
   ],
   "source": [
    "pred_ort = sess.run(None, {\"X\": word_input_vec})[0]\n",
    "pred_ort"
   ]
  },
  {
   "cell_type": "code",
   "execution_count": 19,
   "id": "f524ee39-bab5-4ef6-be68-ff551c0b7e37",
   "metadata": {},
   "outputs": [
    {
     "data": {
      "text/plain": [
       "array([[ 2243, 17429, 10652, 34789,  2231],\n",
       "       [22315, 24316,  7695, 22787, 24147],\n",
       "       [28623, 29199, 28596, 34464,  4452],\n",
       "       [  988, 10436,  1889, 10097,   986],\n",
       "       [19770, 28444, 20756, 34476, 19542]])"
      ]
     },
     "execution_count": 19,
     "metadata": {},
     "output_type": "execute_result"
    }
   ],
   "source": [
    "nbrs.kneighbors(word_input_vec, 5, False)"
   ]
  },
  {
   "cell_type": "code",
   "execution_count": 20,
   "id": "ee3b0ffb-3181-4a5f-be3c-a0af18ae116e",
   "metadata": {},
   "outputs": [],
   "source": [
    "def get_pred(vetor):\n",
    "    return sess.run(None, {\"X\": vetor.reshape(1, -1).astype(np.float32)})[0]"
   ]
  },
  {
   "cell_type": "code",
   "execution_count": 21,
   "id": "4a323e3a-175b-4ee1-8169-c53cd9acd30f",
   "metadata": {},
   "outputs": [
    {
     "name": "stdout",
     "output_type": "stream",
     "text": [
      "การบด้าน \n",
      "---> ['การบ้าน' 'ภาษากึ่งแบบแผน' 'ทำการบ้าน' 'แก้วสารพัดนึก' 'การจัดรูปที่ดิน']\n",
      "สวัดี \n",
      "---> ['วสวัดดี' 'สวัสดี' 'ดบัสวี' 'วิดัสดี' 'สรัสวดี']\n",
      "vออกเลอร์ \n",
      "---> ['ออร์แกน' 'อาร์กอน' 'ออกเบอร์' 'เอทิลแอลกอฮอล์' 'คลอโรฟอร์ม']\n",
      "ปละเทศไทยย \n",
      "---> ['กระเทียมโทน' 'ทะเลทราย' 'กะเทย' 'ทรงกระเทียม' 'กระเทียม']\n",
      "อรอย \n",
      "---> ['รอย' 'อร่อย' 'ร่องรอย' 'เอร็ดอร่อย' 'ย้อนรอย']\n"
     ]
    }
   ],
   "source": [
    "word_input_vec = [get_sentence_vector(' '.join(list(word))) for word in words_input]\n",
    "indices = sess.run(None, {\"X\": word_input_vec})[0] # n_neighbors is 5\n",
    "suggestion = words[indices]\n",
    "\n",
    "for w, s in zip(words_input, suggestion):\n",
    "    print(f'{w} \\n---> {s}')"
   ]
  },
  {
   "cell_type": "code",
   "execution_count": 22,
   "id": "f89200f6-0032-4e5b-9e85-4c7d047d55d7",
   "metadata": {},
   "outputs": [
    {
     "name": "stdout",
     "output_type": "stream",
     "text": [
      "ONNX model saved successfully to nearest_neighbors.onnx\n"
     ]
    }
   ],
   "source": [
    "onnx_path = \"nearest_neighbors.onnx\"\n",
    "with open(onnx_path, \"wb\") as f:\n",
    "    f.write(onx.SerializeToString())\n",
    "\n",
    "print(f\"ONNX model saved successfully to {onnx_path}\")"
   ]
  },
  {
   "cell_type": "code",
   "execution_count": 23,
   "id": "c48a03ad-a0c0-4c87-ab8c-7d2b1b814c8a",
   "metadata": {},
   "outputs": [
    {
     "data": {
      "text/plain": [
       "array(['ก', 'ก กา', 'ก ข', ..., 'ไฮโล', 'ไฮไฟ', 'ไฮ้'], dtype='<U50')"
      ]
     },
     "execution_count": 23,
     "metadata": {},
     "output_type": "execute_result"
    }
   ],
   "source": [
    "words"
   ]
  },
  {
   "cell_type": "code",
   "execution_count": null,
   "id": "73daf71d-fbc0-4454-8fc1-7ddceaf470b0",
   "metadata": {},
   "outputs": [],
   "source": []
  }
 ],
 "metadata": {
  "kernelspec": {
   "display_name": "Python 3 (ipykernel)",
   "language": "python",
   "name": "python3"
  },
  "language_info": {
   "codemirror_mode": {
    "name": "ipython",
    "version": 3
   },
   "file_extension": ".py",
   "mimetype": "text/x-python",
   "name": "python",
   "nbconvert_exporter": "python",
   "pygments_lexer": "ipython3",
   "version": "3.10.12"
  }
 },
 "nbformat": 4,
 "nbformat_minor": 5
}
