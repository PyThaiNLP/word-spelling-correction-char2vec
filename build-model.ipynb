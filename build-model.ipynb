{
 "cells": [
  {
   "cell_type": "code",
   "execution_count": 1,
   "id": "da338c91-dd41-4cb1-8ed0-19633e6694e2",
   "metadata": {},
   "outputs": [],
   "source": [
    "import fasttext"
   ]
  },
  {
   "cell_type": "code",
   "execution_count": 2,
   "id": "f00d2c5f-ed6d-4a6b-853a-7046aebf327e",
   "metadata": {},
   "outputs": [
    {
     "name": "stderr",
     "output_type": "stream",
     "text": [
      "Read 0M words\n",
      "Number of words:  68\n",
      "Number of labels: 0\n",
      "Progress: 100.0% words/sec/thread: 1626466 lr:  0.000000 avg.loss:  2.642501 ETA:   0h 0m 0s\n"
     ]
    }
   ],
   "source": [
    "model = fasttext.train_unsupervised('words-char.txt', epoch=200, ws=3)"
   ]
  },
  {
   "cell_type": "code",
   "execution_count": 3,
   "id": "1398a2cc-edd5-410c-8200-cf788ba7bdd6",
   "metadata": {},
   "outputs": [
    {
     "name": "stdout",
     "output_type": "stream",
     "text": [
      "Number of char:  68\n"
     ]
    }
   ],
   "source": [
    "print('Number of char: ', len(model.words))"
   ]
  },
  {
   "cell_type": "code",
   "execution_count": 4,
   "id": "4d55d113-c853-4184-812e-0da9243b4b90",
   "metadata": {},
   "outputs": [],
   "source": [
    "from pythainlp.corpus import thai_orst_words\n",
    "import numpy as np\n",
    "list_word=sorted(list(thai_orst_words()))\n",
    "# list_word_use=[i for i in list_word if \" \" not in i]\n",
    "words=list_word\n",
    "words = np.array(list(words))"
   ]
  },
  {
   "cell_type": "code",
   "execution_count": 5,
   "id": "4a983fd7-8135-4947-b56b-167edf7a0104",
   "metadata": {},
   "outputs": [],
   "source": [
    "words_vec = [model.get_sentence_vector(' '.join(list(word))) for word in words]\n",
    "words_vec = np.array(words_vec)"
   ]
  },
  {
   "cell_type": "code",
   "execution_count": 6,
   "id": "31e8d801-9df8-427b-acde-6fd0ed17a0cb",
   "metadata": {},
   "outputs": [],
   "source": [
    "from sklearn.neighbors import NearestNeighbors\n",
    "import numpy as np\n",
    "\n",
    "X, y = words_vec, words\n",
    "nbrs = NearestNeighbors(n_neighbors=5,radius=None).fit(X, y)"
   ]
  },
  {
   "cell_type": "code",
   "execution_count": 7,
   "id": "7c6efe3a-f32f-4801-84a8-aba8d1c3b257",
   "metadata": {},
   "outputs": [],
   "source": [
    "import joblib\n",
    "\n",
    "model.save_model('char2vec.bin')  # fasttext model\n",
    "joblib.dump(words, 'words.joblib')\n",
    "joblib.dump(nbrs, 'nbrs.joblib');"
   ]
  },
  {
   "cell_type": "code",
   "execution_count": null,
   "id": "e870cc5a-45b7-4634-8112-8468d95ff1cf",
   "metadata": {},
   "outputs": [],
   "source": []
  }
 ],
 "metadata": {
  "kernelspec": {
   "display_name": "Python 3 (ipykernel)",
   "language": "python",
   "name": "python3"
  },
  "language_info": {
   "codemirror_mode": {
    "name": "ipython",
    "version": 3
   },
   "file_extension": ".py",
   "mimetype": "text/x-python",
   "name": "python",
   "nbconvert_exporter": "python",
   "pygments_lexer": "ipython3",
   "version": "3.10.12"
  }
 },
 "nbformat": 4,
 "nbformat_minor": 5
}
